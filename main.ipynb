{
 "cells": [
  {
   "cell_type": "code",
   "execution_count": 1,
   "metadata": {},
   "outputs": [
    {
     "name": "stdout",
     "output_type": "stream",
     "text": [
      "cuda\n"
     ]
    }
   ],
   "source": [
    "import pandas as pd\n",
    "import json\n",
    "import matplotlib.pyplot as plt\n",
    "import numpy as np\n",
    "import torch\n",
    "import copy\n",
    "from models import *\n",
    "from utils import *\n",
    "\n",
    "device = torch.device(\"cuda\" if torch.cuda.is_available() else \"cpu\")\n",
    "print(device)\n"
   ]
  },
  {
   "cell_type": "code",
   "execution_count": null,
   "metadata": {},
   "outputs": [],
   "source": [
    "# most ml models have a specific input shape that they expect\n",
    "# making everythign 30x30\n",
    "# convert the whole thing to an image\n",
    "\n",
    "# Model ideas\n",
    "# 1. CNN\n",
    "# 2. S4 -> sequence model, 4 ways \n",
    "# Transformer -> sequence model, 4 ways\n",
    "# Ensembling \n",
    "\n",
    "# CNN model\n",
    "# 1. Input shape 30x30\n",
    "# 2. 2D Convolutional layer\n",
    "# 3. 2D Max pooling layer\n",
    "# 4. 2D Convolutional layer\n",
    "# 5. 2D Max pooling layer\n",
    "# 6. Flatten layer\n",
    "# 7. Dense layer\n",
    "# 8. Output layer\n",
    "# Training -> Want to make it such that the model predicts the output of each pixel\n",
    "\n",
    "\n",
    "#New idea\n",
    "# Encode things as differece in shifts as opposed to color values, such that the training examples become related"
   ]
  },
  {
   "cell_type": "code",
   "execution_count": 2,
   "metadata": {},
   "outputs": [
    {
     "name": "stdout",
     "output_type": "stream",
     "text": [
      "Test Challenges DataFrame:\n"
     ]
    },
    {
     "data": {
      "text/html": [
       "<div>\n",
       "<style scoped>\n",
       "    .dataframe tbody tr th:only-of-type {\n",
       "        vertical-align: middle;\n",
       "    }\n",
       "\n",
       "    .dataframe tbody tr th {\n",
       "        vertical-align: top;\n",
       "    }\n",
       "\n",
       "    .dataframe thead th {\n",
       "        text-align: right;\n",
       "    }\n",
       "</style>\n",
       "<table border=\"1\" class=\"dataframe\">\n",
       "  <thead>\n",
       "    <tr style=\"text-align: right;\">\n",
       "      <th></th>\n",
       "      <th>id</th>\n",
       "      <th>train</th>\n",
       "      <th>test</th>\n",
       "    </tr>\n",
       "  </thead>\n",
       "  <tbody>\n",
       "    <tr>\n",
       "      <th>0</th>\n",
       "      <td>007bbfb7</td>\n",
       "      <td>[{'input': [[0, 7, 7], [7, 7, 7], [0, 7, 7]], ...</td>\n",
       "      <td>[{'input': [[7, 0, 7], [7, 0, 7], [7, 7, 0]]}]</td>\n",
       "    </tr>\n",
       "    <tr>\n",
       "      <th>1</th>\n",
       "      <td>00d62c1b</td>\n",
       "      <td>[{'input': [[0, 0, 0, 0, 0, 0], [0, 0, 3, 0, 0...</td>\n",
       "      <td>[{'input': [[0, 0, 0, 0, 0, 0, 0, 0, 0, 0, 0, ...</td>\n",
       "    </tr>\n",
       "    <tr>\n",
       "      <th>2</th>\n",
       "      <td>017c7c7b</td>\n",
       "      <td>[{'input': [[0, 1, 0], [1, 1, 0], [0, 1, 0], [...</td>\n",
       "      <td>[{'input': [[1, 1, 1], [0, 1, 0], [0, 1, 0], [...</td>\n",
       "    </tr>\n",
       "    <tr>\n",
       "      <th>3</th>\n",
       "      <td>025d127b</td>\n",
       "      <td>[{'input': [[0, 0, 0, 0, 0, 0, 0, 0, 0], [0, 6...</td>\n",
       "      <td>[{'input': [[0, 0, 0, 0, 0, 0, 0, 0, 0, 0], [0...</td>\n",
       "    </tr>\n",
       "    <tr>\n",
       "      <th>4</th>\n",
       "      <td>045e512c</td>\n",
       "      <td>[{'input': [[0, 0, 0, 0, 0, 0, 0, 0, 0, 0, 0, ...</td>\n",
       "      <td>[{'input': [[0, 0, 0, 0, 0, 0, 0, 0, 0, 0, 0, ...</td>\n",
       "    </tr>\n",
       "  </tbody>\n",
       "</table>\n",
       "</div>"
      ],
      "text/plain": [
       "         id                                              train  \\\n",
       "0  007bbfb7  [{'input': [[0, 7, 7], [7, 7, 7], [0, 7, 7]], ...   \n",
       "1  00d62c1b  [{'input': [[0, 0, 0, 0, 0, 0], [0, 0, 3, 0, 0...   \n",
       "2  017c7c7b  [{'input': [[0, 1, 0], [1, 1, 0], [0, 1, 0], [...   \n",
       "3  025d127b  [{'input': [[0, 0, 0, 0, 0, 0, 0, 0, 0], [0, 6...   \n",
       "4  045e512c  [{'input': [[0, 0, 0, 0, 0, 0, 0, 0, 0, 0, 0, ...   \n",
       "\n",
       "                                                test  \n",
       "0     [{'input': [[7, 0, 7], [7, 0, 7], [7, 7, 0]]}]  \n",
       "1  [{'input': [[0, 0, 0, 0, 0, 0, 0, 0, 0, 0, 0, ...  \n",
       "2  [{'input': [[1, 1, 1], [0, 1, 0], [0, 1, 0], [...  \n",
       "3  [{'input': [[0, 0, 0, 0, 0, 0, 0, 0, 0, 0], [0...  \n",
       "4  [{'input': [[0, 0, 0, 0, 0, 0, 0, 0, 0, 0, 0, ...  "
      ]
     },
     "metadata": {},
     "output_type": "display_data"
    },
    {
     "name": "stdout",
     "output_type": "stream",
     "text": [
      "\n",
      "Training Challenges DataFrame:\n"
     ]
    },
    {
     "data": {
      "text/html": [
       "<div>\n",
       "<style scoped>\n",
       "    .dataframe tbody tr th:only-of-type {\n",
       "        vertical-align: middle;\n",
       "    }\n",
       "\n",
       "    .dataframe tbody tr th {\n",
       "        vertical-align: top;\n",
       "    }\n",
       "\n",
       "    .dataframe thead th {\n",
       "        text-align: right;\n",
       "    }\n",
       "</style>\n",
       "<table border=\"1\" class=\"dataframe\">\n",
       "  <thead>\n",
       "    <tr style=\"text-align: right;\">\n",
       "      <th></th>\n",
       "      <th>id</th>\n",
       "      <th>train</th>\n",
       "      <th>test</th>\n",
       "    </tr>\n",
       "  </thead>\n",
       "  <tbody>\n",
       "    <tr>\n",
       "      <th>0</th>\n",
       "      <td>007bbfb7</td>\n",
       "      <td>[{'input': [[0, 7, 7], [7, 7, 7], [0, 7, 7]], ...</td>\n",
       "      <td>[{'input': [[7, 0, 7], [7, 0, 7], [7, 7, 0]], ...</td>\n",
       "    </tr>\n",
       "    <tr>\n",
       "      <th>1</th>\n",
       "      <td>00d62c1b</td>\n",
       "      <td>[{'input': [[0, 0, 0, 0, 0, 0], [0, 0, 3, 0, 0...</td>\n",
       "      <td>[{'input': [[0, 0, 0, 0, 0, 0, 0, 0, 0, 0, 0, ...</td>\n",
       "    </tr>\n",
       "    <tr>\n",
       "      <th>2</th>\n",
       "      <td>017c7c7b</td>\n",
       "      <td>[{'input': [[0, 1, 0], [1, 1, 0], [0, 1, 0], [...</td>\n",
       "      <td>[{'input': [[1, 1, 1], [0, 1, 0], [0, 1, 0], [...</td>\n",
       "    </tr>\n",
       "    <tr>\n",
       "      <th>3</th>\n",
       "      <td>025d127b</td>\n",
       "      <td>[{'input': [[0, 0, 0, 0, 0, 0, 0, 0, 0], [0, 6...</td>\n",
       "      <td>[{'input': [[0, 0, 0, 0, 0, 0, 0, 0, 0, 0], [0...</td>\n",
       "    </tr>\n",
       "    <tr>\n",
       "      <th>4</th>\n",
       "      <td>045e512c</td>\n",
       "      <td>[{'input': [[0, 0, 0, 0, 0, 0, 0, 0, 0, 0, 0, ...</td>\n",
       "      <td>[{'input': [[0, 0, 0, 0, 0, 0, 0, 0, 0, 0, 0, ...</td>\n",
       "    </tr>\n",
       "  </tbody>\n",
       "</table>\n",
       "</div>"
      ],
      "text/plain": [
       "         id                                              train  \\\n",
       "0  007bbfb7  [{'input': [[0, 7, 7], [7, 7, 7], [0, 7, 7]], ...   \n",
       "1  00d62c1b  [{'input': [[0, 0, 0, 0, 0, 0], [0, 0, 3, 0, 0...   \n",
       "2  017c7c7b  [{'input': [[0, 1, 0], [1, 1, 0], [0, 1, 0], [...   \n",
       "3  025d127b  [{'input': [[0, 0, 0, 0, 0, 0, 0, 0, 0], [0, 6...   \n",
       "4  045e512c  [{'input': [[0, 0, 0, 0, 0, 0, 0, 0, 0, 0, 0, ...   \n",
       "\n",
       "                                                test  \n",
       "0  [{'input': [[7, 0, 7], [7, 0, 7], [7, 7, 0]], ...  \n",
       "1  [{'input': [[0, 0, 0, 0, 0, 0, 0, 0, 0, 0, 0, ...  \n",
       "2  [{'input': [[1, 1, 1], [0, 1, 0], [0, 1, 0], [...  \n",
       "3  [{'input': [[0, 0, 0, 0, 0, 0, 0, 0, 0, 0], [0...  \n",
       "4  [{'input': [[0, 0, 0, 0, 0, 0, 0, 0, 0, 0, 0, ...  "
      ]
     },
     "metadata": {},
     "output_type": "display_data"
    },
    {
     "name": "stdout",
     "output_type": "stream",
     "text": [
      "\n",
      "Evaluation Challenges DataFrame:\n"
     ]
    },
    {
     "data": {
      "text/html": [
       "<div>\n",
       "<style scoped>\n",
       "    .dataframe tbody tr th:only-of-type {\n",
       "        vertical-align: middle;\n",
       "    }\n",
       "\n",
       "    .dataframe tbody tr th {\n",
       "        vertical-align: top;\n",
       "    }\n",
       "\n",
       "    .dataframe thead th {\n",
       "        text-align: right;\n",
       "    }\n",
       "</style>\n",
       "<table border=\"1\" class=\"dataframe\">\n",
       "  <thead>\n",
       "    <tr style=\"text-align: right;\">\n",
       "      <th></th>\n",
       "      <th>id</th>\n",
       "      <th>train</th>\n",
       "      <th>test</th>\n",
       "    </tr>\n",
       "  </thead>\n",
       "  <tbody>\n",
       "    <tr>\n",
       "      <th>0</th>\n",
       "      <td>00576224</td>\n",
       "      <td>[{'input': [[8, 6], [6, 4]], 'output': [[8, 6,...</td>\n",
       "      <td>[{'input': [[3, 2], [7, 8]], 'output': [[3, 2,...</td>\n",
       "    </tr>\n",
       "    <tr>\n",
       "      <th>1</th>\n",
       "      <td>009d5c81</td>\n",
       "      <td>[{'input': [[0, 0, 0, 0, 0, 0, 0, 0, 0, 0, 0, ...</td>\n",
       "      <td>[{'input': [[0, 0, 0, 0, 0, 0, 0, 0, 0, 0, 0, ...</td>\n",
       "    </tr>\n",
       "    <tr>\n",
       "      <th>2</th>\n",
       "      <td>00dbd492</td>\n",
       "      <td>[{'input': [[2, 2, 2, 2, 2, 0, 0], [2, 0, 0, 0...</td>\n",
       "      <td>[{'input': [[0, 0, 0, 0, 0, 0, 0, 0, 0, 0, 0, ...</td>\n",
       "    </tr>\n",
       "    <tr>\n",
       "      <th>3</th>\n",
       "      <td>03560426</td>\n",
       "      <td>[{'input': [[0, 0, 0, 0, 0, 0, 0, 0, 0, 0], [0...</td>\n",
       "      <td>[{'input': [[0, 0, 0, 0, 0, 0, 0, 0, 0, 0], [0...</td>\n",
       "    </tr>\n",
       "    <tr>\n",
       "      <th>4</th>\n",
       "      <td>05a7bcf2</td>\n",
       "      <td>[{'input': [[0, 0, 0, 0, 0, 0, 0, 0, 0, 0, 0, ...</td>\n",
       "      <td>[{'input': [[0, 0, 0, 0, 0, 0, 0, 0, 0, 0, 2, ...</td>\n",
       "    </tr>\n",
       "  </tbody>\n",
       "</table>\n",
       "</div>"
      ],
      "text/plain": [
       "         id                                              train  \\\n",
       "0  00576224  [{'input': [[8, 6], [6, 4]], 'output': [[8, 6,...   \n",
       "1  009d5c81  [{'input': [[0, 0, 0, 0, 0, 0, 0, 0, 0, 0, 0, ...   \n",
       "2  00dbd492  [{'input': [[2, 2, 2, 2, 2, 0, 0], [2, 0, 0, 0...   \n",
       "3  03560426  [{'input': [[0, 0, 0, 0, 0, 0, 0, 0, 0, 0], [0...   \n",
       "4  05a7bcf2  [{'input': [[0, 0, 0, 0, 0, 0, 0, 0, 0, 0, 0, ...   \n",
       "\n",
       "                                                test  \n",
       "0  [{'input': [[3, 2], [7, 8]], 'output': [[3, 2,...  \n",
       "1  [{'input': [[0, 0, 0, 0, 0, 0, 0, 0, 0, 0, 0, ...  \n",
       "2  [{'input': [[0, 0, 0, 0, 0, 0, 0, 0, 0, 0, 0, ...  \n",
       "3  [{'input': [[0, 0, 0, 0, 0, 0, 0, 0, 0, 0], [0...  \n",
       "4  [{'input': [[0, 0, 0, 0, 0, 0, 0, 0, 0, 0, 2, ...  "
      ]
     },
     "metadata": {},
     "output_type": "display_data"
    }
   ],
   "source": [
    "# File paths\n",
    "test_challenge_file_path = 'arc-prize-2024/arc-agi_test_challenges.json'\n",
    "training_challenge_file_path = 'arc-prize-2024/arc-agi_training_challenges.json'\n",
    "training_solutions_file_path = 'arc-prize-2024/arc-agi_training_solutions.json'\n",
    "evaluation_challenge_file_path = 'arc-prize-2024/arc-agi_evaluation_challenges.json'\n",
    "evaluation_solutions_file_path = 'arc-prize-2024/arc-agi_evaluation_solutions.json'\n",
    "\n",
    "# Load JSON files\n",
    "with open(test_challenge_file_path, 'r') as file:\n",
    "    test_challenges_data = json.load(file)\n",
    "\n",
    "with open(training_challenge_file_path, 'r') as file:\n",
    "    training_challenges_data = json.load(file)\n",
    "\n",
    "with open(training_solutions_file_path, 'r') as file:\n",
    "    training_solutions_data = json.load(file)\n",
    "\n",
    "with open(evaluation_challenge_file_path, 'r') as file:\n",
    "    evaluation_challenges_data = json.load(file)\n",
    "\n",
    "with open(evaluation_solutions_file_path, 'r') as file:\n",
    "    evaluation_solutions_data = json.load(file)\n",
    "\n",
    "# Convert JSON data to DataFrames\n",
    "test_challenges_df = json_to_dataframe(test_challenges_data)\n",
    "training_challenges_df = json_to_dataframe(training_challenges_data, training_solutions_data)\n",
    "evaluation_challenges_df = json_to_dataframe(evaluation_challenges_data, evaluation_solutions_data)\n",
    "\n",
    "# Display the DataFrames\n",
    "print(\"Test Challenges DataFrame:\")\n",
    "display(test_challenges_df.head())\n",
    "print(\"\\nTraining Challenges DataFrame:\")\n",
    "display(training_challenges_df.head())\n",
    "print(\"\\nEvaluation Challenges DataFrame:\")\n",
    "display(evaluation_challenges_df.head())\n",
    "\n",
    "# Save DataFrames to CSV files\n",
    "test_challenges_df.to_csv('test_challenges_data.csv', index=False)\n",
    "training_challenges_df.to_csv('training_challenges_data.csv', index=False)\n",
    "evaluation_challenges_df.to_csv('evaluation_challenges_data.csv', index=False)"
   ]
  },
  {
   "cell_type": "code",
   "execution_count": 3,
   "metadata": {},
   "outputs": [
    {
     "data": {
      "text/plain": [
       "[[7, 0, 7], [7, 0, 7], [7, 7, 0]]"
      ]
     },
     "execution_count": 3,
     "metadata": {},
     "output_type": "execute_result"
    }
   ],
   "source": [
    "a, b, c, d = filter_data_by_id('007bbfb7', training_challenges_df)\n",
    "e, f, g, h = filter_data_by_id('00576224', evaluation_challenges_df)\n",
    "i, j, k = filter_data_by_id('007bbfb7', test_challenges_df, solution=False)\n",
    "a"
   ]
  },
  {
   "cell_type": "code",
   "execution_count": 4,
   "metadata": {},
   "outputs": [
    {
     "name": "stdout",
     "output_type": "stream",
     "text": [
      "400\n",
      "400\n",
      "100\n"
     ]
    }
   ],
   "source": [
    "train_ids = training_challenges_df['id'].values\n",
    "eval_ids = evaluation_challenges_df['id'].values\n",
    "test_ids = test_challenges_df['id'].values\n",
    "\n",
    "print(len(training_challenges_df['id'].values))\n",
    "print(len(evaluation_challenges_df['id'].values))\n",
    "print(len(test_challenges_df['id'].values))"
   ]
  },
  {
   "cell_type": "code",
   "execution_count": 5,
   "metadata": {},
   "outputs": [
    {
     "data": {
      "image/png": "[encoded data removed]",
      "text/plain": [
       "<Figure size 2500x1000 with 10 Axes>"
      ]
     },
     "metadata": {},
     "output_type": "display_data"
    },
    {
     "data": {
      "image/png": "[encoded data removed]",
      "text/plain": [
       "<Figure size 2500x1000 with 10 Axes>"
      ]
     },
     "metadata": {},
     "output_type": "display_data"
    }
   ],
   "source": [
    "visualize_from_data(c, d)\n",
    "visualize_from_id('00d62c1b', training_challenges_df)"
   ]
  },
  {
   "cell_type": "code",
   "execution_count": 6,
   "metadata": {},
   "outputs": [
    {
     "data": {
      "text/html": [
       "<div>\n",
       "<style scoped>\n",
       "    .dataframe tbody tr th:only-of-type {\n",
       "        vertical-align: middle;\n",
       "    }\n",
       "\n",
       "    .dataframe tbody tr th {\n",
       "        vertical-align: top;\n",
       "    }\n",
       "\n",
       "    .dataframe thead th {\n",
       "        text-align: right;\n",
       "    }\n",
       "</style>\n",
       "<table border=\"1\" class=\"dataframe\">\n",
       "  <thead>\n",
       "    <tr style=\"text-align: right;\">\n",
       "      <th></th>\n",
       "      <th>id</th>\n",
       "      <th>input</th>\n",
       "      <th>output</th>\n",
       "    </tr>\n",
       "  </thead>\n",
       "  <tbody>\n",
       "    <tr>\n",
       "      <th>0</th>\n",
       "      <td>007bbfb7</td>\n",
       "      <td>[[[7, 0, 7], [7, 0, 7], [7, 7, 0]]]</td>\n",
       "      <td>[[[7, 0, 7, 0, 0, 0, 7, 0, 7], [7, 0, 7, 0, 0,...</td>\n",
       "    </tr>\n",
       "    <tr>\n",
       "      <th>1</th>\n",
       "      <td>00d62c1b</td>\n",
       "      <td>[[[0, 0, 0, 0, 0, 0, 0, 0, 0, 0, 0, 0, 0, 0, 0...</td>\n",
       "      <td>[[[0, 0, 0, 0, 0, 0, 0, 0, 0, 0, 0, 0, 0, 0, 0...</td>\n",
       "    </tr>\n",
       "    <tr>\n",
       "      <th>2</th>\n",
       "      <td>017c7c7b</td>\n",
       "      <td>[[[1, 1, 1], [0, 1, 0], [0, 1, 0], [1, 1, 1], ...</td>\n",
       "      <td>[[[2, 2, 2], [0, 2, 0], [0, 2, 0], [2, 2, 2], ...</td>\n",
       "    </tr>\n",
       "    <tr>\n",
       "      <th>3</th>\n",
       "      <td>025d127b</td>\n",
       "      <td>[[[0, 0, 0, 0, 0, 0, 0, 0, 0, 0], [0, 4, 4, 4,...</td>\n",
       "      <td>[[[0, 0, 0, 0, 0, 0, 0, 0, 0, 0], [0, 0, 4, 4,...</td>\n",
       "    </tr>\n",
       "    <tr>\n",
       "      <th>4</th>\n",
       "      <td>045e512c</td>\n",
       "      <td>[[[0, 0, 0, 0, 0, 0, 0, 0, 0, 0, 0, 0, 0, 0, 0...</td>\n",
       "      <td>[[[0, 0, 0, 0, 0, 0, 0, 0, 0, 0, 0, 0, 0, 0, 4...</td>\n",
       "    </tr>\n",
       "  </tbody>\n",
       "</table>\n",
       "</div>"
      ],
      "text/plain": [
       "         id                                              input  \\\n",
       "0  007bbfb7                [[[7, 0, 7], [7, 0, 7], [7, 7, 0]]]   \n",
       "1  00d62c1b  [[[0, 0, 0, 0, 0, 0, 0, 0, 0, 0, 0, 0, 0, 0, 0...   \n",
       "2  017c7c7b  [[[1, 1, 1], [0, 1, 0], [0, 1, 0], [1, 1, 1], ...   \n",
       "3  025d127b  [[[0, 0, 0, 0, 0, 0, 0, 0, 0, 0], [0, 4, 4, 4,...   \n",
       "4  045e512c  [[[0, 0, 0, 0, 0, 0, 0, 0, 0, 0, 0, 0, 0, 0, 0...   \n",
       "\n",
       "                                              output  \n",
       "0  [[[7, 0, 7, 0, 0, 0, 7, 0, 7], [7, 0, 7, 0, 0,...  \n",
       "1  [[[0, 0, 0, 0, 0, 0, 0, 0, 0, 0, 0, 0, 0, 0, 0...  \n",
       "2  [[[2, 2, 2], [0, 2, 0], [0, 2, 0], [2, 2, 2], ...  \n",
       "3  [[[0, 0, 0, 0, 0, 0, 0, 0, 0, 0], [0, 0, 4, 4,...  \n",
       "4  [[[0, 0, 0, 0, 0, 0, 0, 0, 0, 0, 0, 0, 0, 0, 4...  "
      ]
     },
     "metadata": {},
     "output_type": "display_data"
    },
    {
     "data": {
      "text/html": [
       "<div>\n",
       "<style scoped>\n",
       "    .dataframe tbody tr th:only-of-type {\n",
       "        vertical-align: middle;\n",
       "    }\n",
       "\n",
       "    .dataframe tbody tr th {\n",
       "        vertical-align: top;\n",
       "    }\n",
       "\n",
       "    .dataframe thead th {\n",
       "        text-align: right;\n",
       "    }\n",
       "</style>\n",
       "<table border=\"1\" class=\"dataframe\">\n",
       "  <thead>\n",
       "    <tr style=\"text-align: right;\">\n",
       "      <th></th>\n",
       "      <th>id</th>\n",
       "      <th>input</th>\n",
       "      <th>output</th>\n",
       "    </tr>\n",
       "  </thead>\n",
       "  <tbody>\n",
       "    <tr>\n",
       "      <th>0</th>\n",
       "      <td>007bbfb7</td>\n",
       "      <td>[[[0, 7, 7], [7, 7, 7], [0, 7, 7]], [[4, 0, 4]...</td>\n",
       "      <td>[[[0, 0, 0, 0, 7, 7, 0, 7, 7], [0, 0, 0, 7, 7,...</td>\n",
       "    </tr>\n",
       "    <tr>\n",
       "      <th>1</th>\n",
       "      <td>00d62c1b</td>\n",
       "      <td>[[[0, 0, 0, 0, 0, 0], [0, 0, 3, 0, 0, 0], [0, ...</td>\n",
       "      <td>[[[0, 0, 0, 0, 0, 0], [0, 0, 3, 0, 0, 0], [0, ...</td>\n",
       "    </tr>\n",
       "    <tr>\n",
       "      <th>2</th>\n",
       "      <td>017c7c7b</td>\n",
       "      <td>[[[0, 1, 0], [1, 1, 0], [0, 1, 0], [0, 1, 1], ...</td>\n",
       "      <td>[[[0, 2, 0], [2, 2, 0], [0, 2, 0], [0, 2, 2], ...</td>\n",
       "    </tr>\n",
       "    <tr>\n",
       "      <th>3</th>\n",
       "      <td>025d127b</td>\n",
       "      <td>[[[0, 0, 0, 0, 0, 0, 0, 0, 0], [0, 6, 6, 6, 0,...</td>\n",
       "      <td>[[[0, 0, 0, 0, 0, 0, 0, 0, 0], [0, 0, 6, 6, 6,...</td>\n",
       "    </tr>\n",
       "    <tr>\n",
       "      <th>4</th>\n",
       "      <td>045e512c</td>\n",
       "      <td>[[[0, 0, 0, 0, 0, 0, 0, 0, 0, 0, 0, 0, 0, 0, 0...</td>\n",
       "      <td>[[[0, 0, 0, 0, 0, 0, 0, 0, 0, 0, 0, 0, 0, 0, 0...</td>\n",
       "    </tr>\n",
       "  </tbody>\n",
       "</table>\n",
       "</div>"
      ],
      "text/plain": [
       "         id                                              input  \\\n",
       "0  007bbfb7  [[[0, 7, 7], [7, 7, 7], [0, 7, 7]], [[4, 0, 4]...   \n",
       "1  00d62c1b  [[[0, 0, 0, 0, 0, 0], [0, 0, 3, 0, 0, 0], [0, ...   \n",
       "2  017c7c7b  [[[0, 1, 0], [1, 1, 0], [0, 1, 0], [0, 1, 1], ...   \n",
       "3  025d127b  [[[0, 0, 0, 0, 0, 0, 0, 0, 0], [0, 6, 6, 6, 0,...   \n",
       "4  045e512c  [[[0, 0, 0, 0, 0, 0, 0, 0, 0, 0, 0, 0, 0, 0, 0...   \n",
       "\n",
       "                                              output  \n",
       "0  [[[0, 0, 0, 0, 7, 7, 0, 7, 7], [0, 0, 0, 7, 7,...  \n",
       "1  [[[0, 0, 0, 0, 0, 0], [0, 0, 3, 0, 0, 0], [0, ...  \n",
       "2  [[[0, 2, 0], [2, 2, 0], [0, 2, 0], [0, 2, 2], ...  \n",
       "3  [[[0, 0, 0, 0, 0, 0, 0, 0, 0], [0, 0, 6, 6, 6,...  \n",
       "4  [[[0, 0, 0, 0, 0, 0, 0, 0, 0, 0, 0, 0, 0, 0, 0...  "
      ]
     },
     "metadata": {},
     "output_type": "display_data"
    }
   ],
   "source": [
    "train_set = []\n",
    "train_predict_set = []\n",
    "eval_set = []\n",
    "eval_predict_set = []\n",
    "test_set = []\n",
    "\n",
    "for i in range(len(train_ids)):\n",
    "    a, b, c, d = filter_data_by_id(train_ids[i], training_challenges_df)\n",
    "    train_set.append({'id': train_ids[i], 'input': c, 'output': d})\n",
    "    train_predict_set.append({'id': train_ids[i], 'input': [a], 'output': [b]})\n",
    "    e, f, g, h = filter_data_by_id(eval_ids[i], evaluation_challenges_df)\n",
    "    eval_set.append({'id': eval_ids[i], 'input': g, 'output': h})\n",
    "    eval_predict_set.append({'id': train_ids[i], 'input': [e], 'output': [f]})\n",
    "\n",
    "for i in range(len(test_ids)):\n",
    "    i, j, k = filter_data_by_id(test_ids[i], test_challenges_df, solution=False)\n",
    "    test_set.append({'id': test_ids[i], 'input': k})\n",
    "\n",
    "train_set_df = pd.DataFrame(train_set)\n",
    "eval_set_df = pd.DataFrame(eval_set)\n",
    "test_set_df = pd.DataFrame(test_set)\n",
    "train_predict_set_df = pd.DataFrame(train_predict_set)\n",
    "eval_predict_set_df = pd.DataFrame(eval_predict_set)\n",
    "\n",
    "display(train_predict_set_df.head())\n",
    "display(train_set_df.head())\n",
    "    "
   ]
  },
  {
   "cell_type": "code",
   "execution_count": 7,
   "metadata": {},
   "outputs": [
    {
     "data": {
      "text/html": [
       "<div>\n",
       "<style scoped>\n",
       "    .dataframe tbody tr th:only-of-type {\n",
       "        vertical-align: middle;\n",
       "    }\n",
       "\n",
       "    .dataframe tbody tr th {\n",
       "        vertical-align: top;\n",
       "    }\n",
       "\n",
       "    .dataframe thead th {\n",
       "        text-align: right;\n",
       "    }\n",
       "</style>\n",
       "<table border=\"1\" class=\"dataframe\">\n",
       "  <thead>\n",
       "    <tr style=\"text-align: right;\">\n",
       "      <th></th>\n",
       "      <th>id</th>\n",
       "      <th>input</th>\n",
       "      <th>output</th>\n",
       "      <th>standardized_input</th>\n",
       "      <th>standardized_output</th>\n",
       "    </tr>\n",
       "  </thead>\n",
       "  <tbody>\n",
       "    <tr>\n",
       "      <th>0</th>\n",
       "      <td>007bbfb7</td>\n",
       "      <td>[[[0, 7, 7], [7, 7, 7], [0, 7, 7]], [[4, 0, 4]...</td>\n",
       "      <td>[[[0, 0, 0, 0, 7, 7, 0, 7, 7], [0, 0, 0, 7, 7,...</td>\n",
       "      <td>[[[0, 7, 7, 11, 11, 11, 11, 11, 11, 11, 11, 11...</td>\n",
       "      <td>[[[0, 0, 0, 0, 7, 7, 0, 7, 7, 11, 11, 11, 11, ...</td>\n",
       "    </tr>\n",
       "    <tr>\n",
       "      <th>1</th>\n",
       "      <td>00d62c1b</td>\n",
       "      <td>[[[0, 0, 0, 0, 0, 0], [0, 0, 3, 0, 0, 0], [0, ...</td>\n",
       "      <td>[[[0, 0, 0, 0, 0, 0], [0, 0, 3, 0, 0, 0], [0, ...</td>\n",
       "      <td>[[[0, 0, 0, 0, 0, 0, 11, 11, 11, 11, 11, 11, 1...</td>\n",
       "      <td>[[[0, 0, 0, 0, 0, 0, 11, 11, 11, 11, 11, 11, 1...</td>\n",
       "    </tr>\n",
       "    <tr>\n",
       "      <th>2</th>\n",
       "      <td>017c7c7b</td>\n",
       "      <td>[[[0, 1, 0], [1, 1, 0], [0, 1, 0], [0, 1, 1], ...</td>\n",
       "      <td>[[[0, 2, 0], [2, 2, 0], [0, 2, 0], [0, 2, 2], ...</td>\n",
       "      <td>[[[0, 1, 0, 11, 11, 11, 11, 11, 11, 11, 11, 11...</td>\n",
       "      <td>[[[0, 2, 0, 11, 11, 11, 11, 11, 11, 11, 11, 11...</td>\n",
       "    </tr>\n",
       "    <tr>\n",
       "      <th>3</th>\n",
       "      <td>025d127b</td>\n",
       "      <td>[[[0, 0, 0, 0, 0, 0, 0, 0, 0], [0, 6, 6, 6, 0,...</td>\n",
       "      <td>[[[0, 0, 0, 0, 0, 0, 0, 0, 0], [0, 0, 6, 6, 6,...</td>\n",
       "      <td>[[[0, 0, 0, 0, 0, 0, 0, 0, 0, 11, 11, 11, 11, ...</td>\n",
       "      <td>[[[0, 0, 0, 0, 0, 0, 0, 0, 0, 11, 11, 11, 11, ...</td>\n",
       "    </tr>\n",
       "    <tr>\n",
       "      <th>4</th>\n",
       "      <td>045e512c</td>\n",
       "      <td>[[[0, 0, 0, 0, 0, 0, 0, 0, 0, 0, 0, 0, 0, 0, 0...</td>\n",
       "      <td>[[[0, 0, 0, 0, 0, 0, 0, 0, 0, 0, 0, 0, 0, 0, 0...</td>\n",
       "      <td>[[[0, 0, 0, 0, 0, 0, 0, 0, 0, 0, 0, 0, 0, 0, 0...</td>\n",
       "      <td>[[[0, 0, 0, 0, 0, 0, 0, 0, 0, 0, 0, 0, 0, 0, 0...</td>\n",
       "    </tr>\n",
       "  </tbody>\n",
       "</table>\n",
       "</div>"
      ],
      "text/plain": [
       "         id                                              input  \\\n",
       "0  007bbfb7  [[[0, 7, 7], [7, 7, 7], [0, 7, 7]], [[4, 0, 4]...   \n",
       "1  00d62c1b  [[[0, 0, 0, 0, 0, 0], [0, 0, 3, 0, 0, 0], [0, ...   \n",
       "2  017c7c7b  [[[0, 1, 0], [1, 1, 0], [0, 1, 0], [0, 1, 1], ...   \n",
       "3  025d127b  [[[0, 0, 0, 0, 0, 0, 0, 0, 0], [0, 6, 6, 6, 0,...   \n",
       "4  045e512c  [[[0, 0, 0, 0, 0, 0, 0, 0, 0, 0, 0, 0, 0, 0, 0...   \n",
       "\n",
       "                                              output  \\\n",
       "0  [[[0, 0, 0, 0, 7, 7, 0, 7, 7], [0, 0, 0, 7, 7,...   \n",
       "1  [[[0, 0, 0, 0, 0, 0], [0, 0, 3, 0, 0, 0], [0, ...   \n",
       "2  [[[0, 2, 0], [2, 2, 0], [0, 2, 0], [0, 2, 2], ...   \n",
       "3  [[[0, 0, 0, 0, 0, 0, 0, 0, 0], [0, 0, 6, 6, 6,...   \n",
       "4  [[[0, 0, 0, 0, 0, 0, 0, 0, 0, 0, 0, 0, 0, 0, 0...   \n",
       "\n",
       "                                  standardized_input  \\\n",
       "0  [[[0, 7, 7, 11, 11, 11, 11, 11, 11, 11, 11, 11...   \n",
       "1  [[[0, 0, 0, 0, 0, 0, 11, 11, 11, 11, 11, 11, 1...   \n",
       "2  [[[0, 1, 0, 11, 11, 11, 11, 11, 11, 11, 11, 11...   \n",
       "3  [[[0, 0, 0, 0, 0, 0, 0, 0, 0, 11, 11, 11, 11, ...   \n",
       "4  [[[0, 0, 0, 0, 0, 0, 0, 0, 0, 0, 0, 0, 0, 0, 0...   \n",
       "\n",
       "                                 standardized_output  \n",
       "0  [[[0, 0, 0, 0, 7, 7, 0, 7, 7, 11, 11, 11, 11, ...  \n",
       "1  [[[0, 0, 0, 0, 0, 0, 11, 11, 11, 11, 11, 11, 1...  \n",
       "2  [[[0, 2, 0, 11, 11, 11, 11, 11, 11, 11, 11, 11...  \n",
       "3  [[[0, 0, 0, 0, 0, 0, 0, 0, 0, 11, 11, 11, 11, ...  \n",
       "4  [[[0, 0, 0, 0, 0, 0, 0, 0, 0, 0, 0, 0, 0, 0, 0...  "
      ]
     },
     "metadata": {},
     "output_type": "display_data"
    }
   ],
   "source": [
    "\n",
    "\n",
    "\n",
    "train_set_df['standardized_input'] = train_set_df['input'].apply(standardize_data)\n",
    "train_set_df['standardized_output'] = train_set_df['output'].apply(standardize_data)\n",
    "train_predict_set_df['standardized_input'] = train_predict_set_df['input'].apply(standardize_data)\n",
    "train_predict_set_df['standardized_output'] = train_predict_set_df['output'].apply(standardize_data)\n",
    "eval_set_df['standardized_input'] = eval_set_df['input'].apply(standardize_data)\n",
    "eval_set_df['standardized_output'] = eval_set_df['output'].apply(standardize_data)\n",
    "eval_predict_set_df['standardized_input'] = eval_predict_set_df['input'].apply(standardize_data)\n",
    "eval_predict_set_df['standardized_output'] = eval_predict_set_df['output'].apply(standardize_data)\n",
    "test_set_df['standardized_input'] = test_set_df['input'].apply(standardize_data)\n",
    "\n",
    "display(train_set_df.head())"
   ]
  },
  {
   "cell_type": "code",
   "execution_count": 73,
   "metadata": {},
   "outputs": [],
   "source": [
    "def train_cnn_model(model, train_data, loss_function, optimizer, epochs=10, **kwargs):\n",
    "    model.to(device)\n",
    "    model.train()\n",
    "\n",
    "    for epoch in range(epochs):\n",
    "        for i in range(len(train_data)):\n",
    "            for j in range(len(train_data['standardized_input'].iloc[i])):\n",
    "                input_data = torch.tensor(train_data['standardized_input'].iloc[i][j]).unsqueeze(0).float().to(device)\n",
    "                output_data = torch.tensor(train_data['standardized_output'].iloc[i][j]).unsqueeze(0).long().to(device)\n",
    "                #print(output_data.shape, input_data.shape)\n",
    "                optimizer.zero_grad()\n",
    "                predictions = predictions = torch.zeros(1, 12, len(output_data[0]), len(output_data[0][0])).to(device)\n",
    "                for k in range(len(output_data[0])):\n",
    "                    for l in range(len(output_data[0][0])):\n",
    "                        output = model(input_data, height_index=k, width_index=l, height=k, width=l).squeeze()\n",
    "                        predictions[0, :, k, l] = output\n",
    "                #print(output_data.shape, predictions.shape)\n",
    "                loss = loss_function(predictions[:len(output_data), :len(output_data[0])], output_data)\n",
    "                loss.backward()\n",
    "                optimizer.step()\n",
    "            if i % 100 == 0:\n",
    "                print(f\"Epoch: {epoch + 1}, Loss: {loss.item()}\")\n",
    "\n",
    "# Evaluation\n",
    "def evaluate_model(model, data):\n",
    "    correct = 0\n",
    "    total = 0\n",
    "    with torch.no_grad():\n",
    "        for i in range(len(data)):\n",
    "            input_data = torch.tensor(data['standardized_input'].iloc[i]).unsqueeze(0).float().to(device)\n",
    "            output_data = torch.tensor(data['standardized_output'].iloc[i]).unsqueeze(0).long().to(device)\n",
    "            model.eval()\n",
    "            predictions = predictions = torch.zeros(1, 12, len(output_data[0][0]), len(output_data[0][0][0])).to(device)\n",
    "            for k in range(len(output_data)):\n",
    "                for l in range(len(output_data[0])):\n",
    "                    output = model(input_data, height_index=k, width_index=l, height=k, width=l).squeeze()\n",
    "                    predictions[0, :, k, l] = torch.argmax(output)\n",
    "            total += output_data[0] * output_data[0][0]\n",
    "            correct += (predicted == output_data).sum().item()\n",
    "    print(f\"Accuracy: {correct / total}\")\n",
    "\n",
    "def predict(model, data, i):\n",
    "    model.to(device)\n",
    "    predictions = []\n",
    "    with torch.no_grad():\n",
    "        input_data = torch.tensor(data['standardized_input'].iloc[i]).unsqueeze(0).float().to(device)\n",
    "        output_data = torch.tensor(data['standardized_output'].iloc[i]).unsqueeze(0).long().to(device)\n",
    "        model.eval()\n",
    "        predictions = torch.zeros(1, 1, len(output_data[0][0]), len(output_data[0][0][0])).to(device)\n",
    "        for k in range(len(output_data[0][0])):\n",
    "            for l in range(len(output_data[0][0][0])):\n",
    "                output = model(input_data, height_index=k, width_index=l, height=k, width=l).squeeze()\n",
    "                predictions[0, 0, k, l] = torch.argmax(output)\n",
    "    print(predictions.shape)\n",
    "    return predictions\n"
   ]
  },
  {
   "cell_type": "code",
   "execution_count": 74,
   "metadata": {},
   "outputs": [
    {
     "name": "stdout",
     "output_type": "stream",
     "text": [
      "Epoch: 1, Loss: 0.34413912892341614\n",
      "Epoch: 1, Loss: 0.4937456548213959\n",
      "Epoch: 1, Loss: 0.38584885001182556\n",
      "Epoch: 1, Loss: 0.04955791309475899\n",
      "Epoch: 2, Loss: 0.24971164762973785\n",
      "Epoch: 2, Loss: 0.502502977848053\n",
      "Epoch: 2, Loss: 0.32684895396232605\n",
      "Epoch: 2, Loss: 0.053736235946416855\n",
      "Epoch: 3, Loss: 0.23150315880775452\n",
      "Epoch: 3, Loss: 0.3613509237766266\n",
      "Epoch: 3, Loss: 0.31118953227996826\n",
      "Epoch: 3, Loss: 0.058363232761621475\n",
      "Epoch: 4, Loss: 0.23360903561115265\n",
      "Epoch: 4, Loss: 0.470826655626297\n",
      "Epoch: 4, Loss: 0.3081439137458801\n",
      "Epoch: 4, Loss: 0.06664103269577026\n",
      "Epoch: 5, Loss: 0.22720733284950256\n",
      "Epoch: 5, Loss: 0.4576656222343445\n",
      "Epoch: 5, Loss: 0.2685677707195282\n",
      "Epoch: 5, Loss: 0.05577130243182182\n",
      "Epoch: 6, Loss: 0.22051522135734558\n",
      "Epoch: 6, Loss: 0.42435818910598755\n",
      "Epoch: 6, Loss: 0.26449674367904663\n",
      "Epoch: 6, Loss: 0.05397312343120575\n",
      "Epoch: 7, Loss: 0.22254405915737152\n",
      "Epoch: 7, Loss: 0.47089263796806335\n",
      "Epoch: 7, Loss: 0.24556352198123932\n",
      "Epoch: 7, Loss: 0.06040170043706894\n",
      "Epoch: 8, Loss: 0.2228386402130127\n",
      "Epoch: 8, Loss: 0.41678643226623535\n",
      "Epoch: 8, Loss: 0.255124032497406\n",
      "Epoch: 8, Loss: 0.06196754425764084\n",
      "Epoch: 9, Loss: 0.22745731472969055\n",
      "Epoch: 9, Loss: 0.4246339201927185\n",
      "Epoch: 9, Loss: 0.2374061644077301\n",
      "Epoch: 9, Loss: 0.058699436485767365\n",
      "Epoch: 10, Loss: 0.22457481920719147\n",
      "Epoch: 10, Loss: 0.37124285101890564\n",
      "Epoch: 10, Loss: 0.2806367576122284\n",
      "Epoch: 10, Loss: 0.06278085708618164\n"
     ]
    }
   ],
   "source": [
    "model = CNNModel()\n",
    "\n",
    "# Loss function\n",
    "loss_function = torch.nn.CrossEntropyLoss()\n",
    "loss_function.to(device)\n",
    "\n",
    "# Optimizer\n",
    "optimizer = torch.optim.Adam(model.parameters(), lr=0.001)\n",
    "\n",
    "\n",
    "for state in optimizer.state.values():\n",
    "    for k, v in state.items():\n",
    "        if isinstance(v, torch.Tensor):\n",
    "            state[k] = v.to(device)\n",
    "            \n",
    "train_cnn_model(model, train_set_df, loss_function, optimizer, epochs=10, device = device)\n"
   ]
  },
  {
   "cell_type": "code",
   "execution_count": 76,
   "metadata": {},
   "outputs": [
    {
     "name": "stdout",
     "output_type": "stream",
     "text": [
      "torch.Size([1, 1, 30, 30])\n",
      "torch.Size([1, 1, 30, 30])\n",
      "torch.Size([1, 30, 30])\n",
      "torch.Size([1, 1, 30, 30])\n",
      "torch.Size([1, 1, 30, 30])\n"
     ]
    },
    {
     "data": {
      "image/png": "[encoded data removed]",
      "text/plain": [
       "<Figure size 500x1000 with 2 Axes>"
      ]
     },
     "metadata": {},
     "output_type": "display_data"
    },
    {
     "data": {
      "image/png": "[encoded data removed]",
      "text/plain": [
       "<Figure size 500x1000 with 2 Axes>"
      ]
     },
     "metadata": {},
     "output_type": "display_data"
    }
   ],
   "source": [
    "prediction = predict(model, train_predict_set_df, 1)\n",
    "print(prediction.squeeze().unsqueeze(0).shape)\n",
    "visualize_from_data(train_predict_set_df['input'].iloc[1], predict(model, train_predict_set_df, 1).detach().cpu().squeeze().unsqueeze(0).numpy())\n",
    "visualize_from_data(train_predict_set_df['input'].iloc[1], train_predict_set_df['output'].iloc[1])"
   ]
  },
  {
   "cell_type": "code",
   "execution_count": 13,
   "metadata": {},
   "outputs": [
    {
     "ename": "KeyError",
     "evalue": "0",
     "output_type": "error",
     "traceback": [
      "\u001b[1;31m---------------------------------------------------------------------------\u001b[0m",
      "\u001b[1;31mKeyError\u001b[0m                                  Traceback (most recent call last)",
      "File \u001b[1;32mc:\\Users\\anish\\Projects\\arc-ai\\venv\\lib\\site-packages\\pandas\\core\\indexes\\base.py:3805\u001b[0m, in \u001b[0;36mIndex.get_loc\u001b[1;34m(self, key)\u001b[0m\n\u001b[0;32m   3804\u001b[0m \u001b[38;5;28;01mtry\u001b[39;00m:\n\u001b[1;32m-> 3805\u001b[0m     \u001b[38;5;28;01mreturn\u001b[39;00m \u001b[38;5;28;43mself\u001b[39;49m\u001b[38;5;241;43m.\u001b[39;49m\u001b[43m_engine\u001b[49m\u001b[38;5;241;43m.\u001b[39;49m\u001b[43mget_loc\u001b[49m\u001b[43m(\u001b[49m\u001b[43mcasted_key\u001b[49m\u001b[43m)\u001b[49m\n\u001b[0;32m   3806\u001b[0m \u001b[38;5;28;01mexcept\u001b[39;00m \u001b[38;5;167;01mKeyError\u001b[39;00m \u001b[38;5;28;01mas\u001b[39;00m err:\n",
      "File \u001b[1;32mindex.pyx:167\u001b[0m, in \u001b[0;36mpandas._libs.index.IndexEngine.get_loc\u001b[1;34m()\u001b[0m\n",
      "File \u001b[1;32mindex.pyx:196\u001b[0m, in \u001b[0;36mpandas._libs.index.IndexEngine.get_loc\u001b[1;34m()\u001b[0m\n",
      "File \u001b[1;32mpandas\\\\_libs\\\\hashtable_class_helper.pxi:7081\u001b[0m, in \u001b[0;36mpandas._libs.hashtable.PyObjectHashTable.get_item\u001b[1;34m()\u001b[0m\n",
      "File \u001b[1;32mpandas\\\\_libs\\\\hashtable_class_helper.pxi:7089\u001b[0m, in \u001b[0;36mpandas._libs.hashtable.PyObjectHashTable.get_item\u001b[1;34m()\u001b[0m\n",
      "\u001b[1;31mKeyError\u001b[0m: 0",
      "\nThe above exception was the direct cause of the following exception:\n",
      "\u001b[1;31mKeyError\u001b[0m                                  Traceback (most recent call last)",
      "Cell \u001b[1;32mIn[13], line 2\u001b[0m\n\u001b[0;32m      1\u001b[0m model\u001b[38;5;241m.\u001b[39meval()\n\u001b[1;32m----> 2\u001b[0m evaluate_model(model, \u001b[43mtrain_predict_set_df\u001b[49m\u001b[43m[\u001b[49m\u001b[38;5;241;43m0\u001b[39;49m\u001b[43m]\u001b[49m)\n",
      "File \u001b[1;32mc:\\Users\\anish\\Projects\\arc-ai\\venv\\lib\\site-packages\\pandas\\core\\frame.py:4102\u001b[0m, in \u001b[0;36mDataFrame.__getitem__\u001b[1;34m(self, key)\u001b[0m\n\u001b[0;32m   4100\u001b[0m \u001b[38;5;28;01mif\u001b[39;00m \u001b[38;5;28mself\u001b[39m\u001b[38;5;241m.\u001b[39mcolumns\u001b[38;5;241m.\u001b[39mnlevels \u001b[38;5;241m>\u001b[39m \u001b[38;5;241m1\u001b[39m:\n\u001b[0;32m   4101\u001b[0m     \u001b[38;5;28;01mreturn\u001b[39;00m \u001b[38;5;28mself\u001b[39m\u001b[38;5;241m.\u001b[39m_getitem_multilevel(key)\n\u001b[1;32m-> 4102\u001b[0m indexer \u001b[38;5;241m=\u001b[39m \u001b[38;5;28;43mself\u001b[39;49m\u001b[38;5;241;43m.\u001b[39;49m\u001b[43mcolumns\u001b[49m\u001b[38;5;241;43m.\u001b[39;49m\u001b[43mget_loc\u001b[49m\u001b[43m(\u001b[49m\u001b[43mkey\u001b[49m\u001b[43m)\u001b[49m\n\u001b[0;32m   4103\u001b[0m \u001b[38;5;28;01mif\u001b[39;00m is_integer(indexer):\n\u001b[0;32m   4104\u001b[0m     indexer \u001b[38;5;241m=\u001b[39m [indexer]\n",
      "File \u001b[1;32mc:\\Users\\anish\\Projects\\arc-ai\\venv\\lib\\site-packages\\pandas\\core\\indexes\\base.py:3812\u001b[0m, in \u001b[0;36mIndex.get_loc\u001b[1;34m(self, key)\u001b[0m\n\u001b[0;32m   3807\u001b[0m     \u001b[38;5;28;01mif\u001b[39;00m \u001b[38;5;28misinstance\u001b[39m(casted_key, \u001b[38;5;28mslice\u001b[39m) \u001b[38;5;129;01mor\u001b[39;00m (\n\u001b[0;32m   3808\u001b[0m         \u001b[38;5;28misinstance\u001b[39m(casted_key, abc\u001b[38;5;241m.\u001b[39mIterable)\n\u001b[0;32m   3809\u001b[0m         \u001b[38;5;129;01mand\u001b[39;00m \u001b[38;5;28many\u001b[39m(\u001b[38;5;28misinstance\u001b[39m(x, \u001b[38;5;28mslice\u001b[39m) \u001b[38;5;28;01mfor\u001b[39;00m x \u001b[38;5;129;01min\u001b[39;00m casted_key)\n\u001b[0;32m   3810\u001b[0m     ):\n\u001b[0;32m   3811\u001b[0m         \u001b[38;5;28;01mraise\u001b[39;00m InvalidIndexError(key)\n\u001b[1;32m-> 3812\u001b[0m     \u001b[38;5;28;01mraise\u001b[39;00m \u001b[38;5;167;01mKeyError\u001b[39;00m(key) \u001b[38;5;28;01mfrom\u001b[39;00m \u001b[38;5;21;01merr\u001b[39;00m\n\u001b[0;32m   3813\u001b[0m \u001b[38;5;28;01mexcept\u001b[39;00m \u001b[38;5;167;01mTypeError\u001b[39;00m:\n\u001b[0;32m   3814\u001b[0m     \u001b[38;5;66;03m# If we have a listlike key, _check_indexing_error will raise\u001b[39;00m\n\u001b[0;32m   3815\u001b[0m     \u001b[38;5;66;03m#  InvalidIndexError. Otherwise we fall through and re-raise\u001b[39;00m\n\u001b[0;32m   3816\u001b[0m     \u001b[38;5;66;03m#  the TypeError.\u001b[39;00m\n\u001b[0;32m   3817\u001b[0m     \u001b[38;5;28mself\u001b[39m\u001b[38;5;241m.\u001b[39m_check_indexing_error(key)\n",
      "\u001b[1;31mKeyError\u001b[0m: 0"
     ]
    }
   ],
   "source": [
    "model.eval()\n",
    "evaluate_model(model, train_predict_set_df[0])"
   ]
  },
  {
   "cell_type": "code",
   "execution_count": null,
   "metadata": {},
   "outputs": [
    {
     "data": {
      "image/png": "[encoded data removed]",
      "text/plain": [
       "<Figure size 500x500 with 1 Axes>"
      ]
     },
     "metadata": {},
     "output_type": "display_data"
    },
    {
     "data": {
      "image/png": "[encoded data removed]",
      "text/plain": [
       "<Figure size 500x1000 with 2 Axes>"
      ]
     },
     "metadata": {},
     "output_type": "display_data"
    }
   ],
   "source": [
    "predictions = predict(model, train_predict_set_df)\n",
    "visualize_from_data(predictions[0])\n",
    "visualize_from_data([i for i in train_predict_set_df['input']][0], [i for i in train_predict_set_df['output']][0])"
   ]
  },
  {
   "cell_type": "code",
   "execution_count": null,
   "metadata": {},
   "outputs": [],
   "source": []
  }
 ],
 "metadata": {
  "kernelspec": {
   "display_name": "venv",
   "language": "python",
   "name": "python3"
  },
  "language_info": {
   "codemirror_mode": {
    "name": "ipython",
    "version": 3
   },
   "file_extension": ".py",
   "mimetype": "text/x-python",
   "name": "python",
   "nbconvert_exporter": "python",
   "pygments_lexer": "ipython3",
   "version": "3.9.12"
  }
 },
 "nbformat": 4,
 "nbformat_minor": 2
}
