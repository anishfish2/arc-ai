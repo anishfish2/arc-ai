{
 "cells": [
  {
   "cell_type": "code",
   "execution_count": 13,
   "metadata": {},
   "outputs": [],
   "source": [
    "import pandas as pd\n",
    "import json\n",
    "import matplotlib.pyplot as plt\n",
    "import numpy as np\n",
    "import torch\n",
    "import copy\n",
    "from models import *\n",
    "from utils import *\n"
   ]
  },
  {
   "cell_type": "code",
   "execution_count": 14,
   "metadata": {},
   "outputs": [
    {
     "name": "stdout",
     "output_type": "stream",
     "text": [
      "Test Challenges DataFrame:\n"
     ]
    },
    {
     "data": {
      "text/html": [
       "<div>\n",
       "<style scoped>\n",
       "    .dataframe tbody tr th:only-of-type {\n",
       "        vertical-align: middle;\n",
       "    }\n",
       "\n",
       "    .dataframe tbody tr th {\n",
       "        vertical-align: top;\n",
       "    }\n",
       "\n",
       "    .dataframe thead th {\n",
       "        text-align: right;\n",
       "    }\n",
       "</style>\n",
       "<table border=\"1\" class=\"dataframe\">\n",
       "  <thead>\n",
       "    <tr style=\"text-align: right;\">\n",
       "      <th></th>\n",
       "      <th>id</th>\n",
       "      <th>train</th>\n",
       "      <th>test</th>\n",
       "    </tr>\n",
       "  </thead>\n",
       "  <tbody>\n",
       "    <tr>\n",
       "      <th>0</th>\n",
       "      <td>007bbfb7</td>\n",
       "      <td>[{'input': [[0, 7, 7], [7, 7, 7], [0, 7, 7]], ...</td>\n",
       "      <td>[{'input': [[7, 0, 7], [7, 0, 7], [7, 7, 0]]}]</td>\n",
       "    </tr>\n",
       "    <tr>\n",
       "      <th>1</th>\n",
       "      <td>00d62c1b</td>\n",
       "      <td>[{'input': [[0, 0, 0, 0, 0, 0], [0, 0, 3, 0, 0...</td>\n",
       "      <td>[{'input': [[0, 0, 0, 0, 0, 0, 0, 0, 0, 0, 0, ...</td>\n",
       "    </tr>\n",
       "    <tr>\n",
       "      <th>2</th>\n",
       "      <td>017c7c7b</td>\n",
       "      <td>[{'input': [[0, 1, 0], [1, 1, 0], [0, 1, 0], [...</td>\n",
       "      <td>[{'input': [[1, 1, 1], [0, 1, 0], [0, 1, 0], [...</td>\n",
       "    </tr>\n",
       "    <tr>\n",
       "      <th>3</th>\n",
       "      <td>025d127b</td>\n",
       "      <td>[{'input': [[0, 0, 0, 0, 0, 0, 0, 0, 0], [0, 6...</td>\n",
       "      <td>[{'input': [[0, 0, 0, 0, 0, 0, 0, 0, 0, 0], [0...</td>\n",
       "    </tr>\n",
       "    <tr>\n",
       "      <th>4</th>\n",
       "      <td>045e512c</td>\n",
       "      <td>[{'input': [[0, 0, 0, 0, 0, 0, 0, 0, 0, 0, 0, ...</td>\n",
       "      <td>[{'input': [[0, 0, 0, 0, 0, 0, 0, 0, 0, 0, 0, ...</td>\n",
       "    </tr>\n",
       "  </tbody>\n",
       "</table>\n",
       "</div>"
      ],
      "text/plain": [
       "         id                                              train  \\\n",
       "0  007bbfb7  [{'input': [[0, 7, 7], [7, 7, 7], [0, 7, 7]], ...   \n",
       "1  00d62c1b  [{'input': [[0, 0, 0, 0, 0, 0], [0, 0, 3, 0, 0...   \n",
       "2  017c7c7b  [{'input': [[0, 1, 0], [1, 1, 0], [0, 1, 0], [...   \n",
       "3  025d127b  [{'input': [[0, 0, 0, 0, 0, 0, 0, 0, 0], [0, 6...   \n",
       "4  045e512c  [{'input': [[0, 0, 0, 0, 0, 0, 0, 0, 0, 0, 0, ...   \n",
       "\n",
       "                                                test  \n",
       "0     [{'input': [[7, 0, 7], [7, 0, 7], [7, 7, 0]]}]  \n",
       "1  [{'input': [[0, 0, 0, 0, 0, 0, 0, 0, 0, 0, 0, ...  \n",
       "2  [{'input': [[1, 1, 1], [0, 1, 0], [0, 1, 0], [...  \n",
       "3  [{'input': [[0, 0, 0, 0, 0, 0, 0, 0, 0, 0], [0...  \n",
       "4  [{'input': [[0, 0, 0, 0, 0, 0, 0, 0, 0, 0, 0, ...  "
      ]
     },
     "metadata": {},
     "output_type": "display_data"
    },
    {
     "name": "stdout",
     "output_type": "stream",
     "text": [
      "\n",
      "Training Challenges DataFrame:\n"
     ]
    },
    {
     "data": {
      "text/html": [
       "<div>\n",
       "<style scoped>\n",
       "    .dataframe tbody tr th:only-of-type {\n",
       "        vertical-align: middle;\n",
       "    }\n",
       "\n",
       "    .dataframe tbody tr th {\n",
       "        vertical-align: top;\n",
       "    }\n",
       "\n",
       "    .dataframe thead th {\n",
       "        text-align: right;\n",
       "    }\n",
       "</style>\n",
       "<table border=\"1\" class=\"dataframe\">\n",
       "  <thead>\n",
       "    <tr style=\"text-align: right;\">\n",
       "      <th></th>\n",
       "      <th>id</th>\n",
       "      <th>train</th>\n",
       "      <th>test</th>\n",
       "    </tr>\n",
       "  </thead>\n",
       "  <tbody>\n",
       "    <tr>\n",
       "      <th>0</th>\n",
       "      <td>007bbfb7</td>\n",
       "      <td>[{'input': [[0, 7, 7], [7, 7, 7], [0, 7, 7]], ...</td>\n",
       "      <td>[{'input': [[7, 0, 7], [7, 0, 7], [7, 7, 0]], ...</td>\n",
       "    </tr>\n",
       "    <tr>\n",
       "      <th>1</th>\n",
       "      <td>00d62c1b</td>\n",
       "      <td>[{'input': [[0, 0, 0, 0, 0, 0], [0, 0, 3, 0, 0...</td>\n",
       "      <td>[{'input': [[0, 0, 0, 0, 0, 0, 0, 0, 0, 0, 0, ...</td>\n",
       "    </tr>\n",
       "    <tr>\n",
       "      <th>2</th>\n",
       "      <td>017c7c7b</td>\n",
       "      <td>[{'input': [[0, 1, 0], [1, 1, 0], [0, 1, 0], [...</td>\n",
       "      <td>[{'input': [[1, 1, 1], [0, 1, 0], [0, 1, 0], [...</td>\n",
       "    </tr>\n",
       "    <tr>\n",
       "      <th>3</th>\n",
       "      <td>025d127b</td>\n",
       "      <td>[{'input': [[0, 0, 0, 0, 0, 0, 0, 0, 0], [0, 6...</td>\n",
       "      <td>[{'input': [[0, 0, 0, 0, 0, 0, 0, 0, 0, 0], [0...</td>\n",
       "    </tr>\n",
       "    <tr>\n",
       "      <th>4</th>\n",
       "      <td>045e512c</td>\n",
       "      <td>[{'input': [[0, 0, 0, 0, 0, 0, 0, 0, 0, 0, 0, ...</td>\n",
       "      <td>[{'input': [[0, 0, 0, 0, 0, 0, 0, 0, 0, 0, 0, ...</td>\n",
       "    </tr>\n",
       "  </tbody>\n",
       "</table>\n",
       "</div>"
      ],
      "text/plain": [
       "         id                                              train  \\\n",
       "0  007bbfb7  [{'input': [[0, 7, 7], [7, 7, 7], [0, 7, 7]], ...   \n",
       "1  00d62c1b  [{'input': [[0, 0, 0, 0, 0, 0], [0, 0, 3, 0, 0...   \n",
       "2  017c7c7b  [{'input': [[0, 1, 0], [1, 1, 0], [0, 1, 0], [...   \n",
       "3  025d127b  [{'input': [[0, 0, 0, 0, 0, 0, 0, 0, 0], [0, 6...   \n",
       "4  045e512c  [{'input': [[0, 0, 0, 0, 0, 0, 0, 0, 0, 0, 0, ...   \n",
       "\n",
       "                                                test  \n",
       "0  [{'input': [[7, 0, 7], [7, 0, 7], [7, 7, 0]], ...  \n",
       "1  [{'input': [[0, 0, 0, 0, 0, 0, 0, 0, 0, 0, 0, ...  \n",
       "2  [{'input': [[1, 1, 1], [0, 1, 0], [0, 1, 0], [...  \n",
       "3  [{'input': [[0, 0, 0, 0, 0, 0, 0, 0, 0, 0], [0...  \n",
       "4  [{'input': [[0, 0, 0, 0, 0, 0, 0, 0, 0, 0, 0, ...  "
      ]
     },
     "metadata": {},
     "output_type": "display_data"
    },
    {
     "name": "stdout",
     "output_type": "stream",
     "text": [
      "\n",
      "Evaluation Challenges DataFrame:\n"
     ]
    },
    {
     "data": {
      "text/html": [
       "<div>\n",
       "<style scoped>\n",
       "    .dataframe tbody tr th:only-of-type {\n",
       "        vertical-align: middle;\n",
       "    }\n",
       "\n",
       "    .dataframe tbody tr th {\n",
       "        vertical-align: top;\n",
       "    }\n",
       "\n",
       "    .dataframe thead th {\n",
       "        text-align: right;\n",
       "    }\n",
       "</style>\n",
       "<table border=\"1\" class=\"dataframe\">\n",
       "  <thead>\n",
       "    <tr style=\"text-align: right;\">\n",
       "      <th></th>\n",
       "      <th>id</th>\n",
       "      <th>train</th>\n",
       "      <th>test</th>\n",
       "    </tr>\n",
       "  </thead>\n",
       "  <tbody>\n",
       "    <tr>\n",
       "      <th>0</th>\n",
       "      <td>00576224</td>\n",
       "      <td>[{'input': [[8, 6], [6, 4]], 'output': [[8, 6,...</td>\n",
       "      <td>[{'input': [[3, 2], [7, 8]], 'output': [[3, 2,...</td>\n",
       "    </tr>\n",
       "    <tr>\n",
       "      <th>1</th>\n",
       "      <td>009d5c81</td>\n",
       "      <td>[{'input': [[0, 0, 0, 0, 0, 0, 0, 0, 0, 0, 0, ...</td>\n",
       "      <td>[{'input': [[0, 0, 0, 0, 0, 0, 0, 0, 0, 0, 0, ...</td>\n",
       "    </tr>\n",
       "    <tr>\n",
       "      <th>2</th>\n",
       "      <td>00dbd492</td>\n",
       "      <td>[{'input': [[2, 2, 2, 2, 2, 0, 0], [2, 0, 0, 0...</td>\n",
       "      <td>[{'input': [[0, 0, 0, 0, 0, 0, 0, 0, 0, 0, 0, ...</td>\n",
       "    </tr>\n",
       "    <tr>\n",
       "      <th>3</th>\n",
       "      <td>03560426</td>\n",
       "      <td>[{'input': [[0, 0, 0, 0, 0, 0, 0, 0, 0, 0], [0...</td>\n",
       "      <td>[{'input': [[0, 0, 0, 0, 0, 0, 0, 0, 0, 0], [0...</td>\n",
       "    </tr>\n",
       "    <tr>\n",
       "      <th>4</th>\n",
       "      <td>05a7bcf2</td>\n",
       "      <td>[{'input': [[0, 0, 0, 0, 0, 0, 0, 0, 0, 0, 0, ...</td>\n",
       "      <td>[{'input': [[0, 0, 0, 0, 0, 0, 0, 0, 0, 0, 2, ...</td>\n",
       "    </tr>\n",
       "  </tbody>\n",
       "</table>\n",
       "</div>"
      ],
      "text/plain": [
       "         id                                              train  \\\n",
       "0  00576224  [{'input': [[8, 6], [6, 4]], 'output': [[8, 6,...   \n",
       "1  009d5c81  [{'input': [[0, 0, 0, 0, 0, 0, 0, 0, 0, 0, 0, ...   \n",
       "2  00dbd492  [{'input': [[2, 2, 2, 2, 2, 0, 0], [2, 0, 0, 0...   \n",
       "3  03560426  [{'input': [[0, 0, 0, 0, 0, 0, 0, 0, 0, 0], [0...   \n",
       "4  05a7bcf2  [{'input': [[0, 0, 0, 0, 0, 0, 0, 0, 0, 0, 0, ...   \n",
       "\n",
       "                                                test  \n",
       "0  [{'input': [[3, 2], [7, 8]], 'output': [[3, 2,...  \n",
       "1  [{'input': [[0, 0, 0, 0, 0, 0, 0, 0, 0, 0, 0, ...  \n",
       "2  [{'input': [[0, 0, 0, 0, 0, 0, 0, 0, 0, 0, 0, ...  \n",
       "3  [{'input': [[0, 0, 0, 0, 0, 0, 0, 0, 0, 0], [0...  \n",
       "4  [{'input': [[0, 0, 0, 0, 0, 0, 0, 0, 0, 0, 2, ...  "
      ]
     },
     "metadata": {},
     "output_type": "display_data"
    }
   ],
   "source": [
    "# File paths\n",
    "test_challenge_file_path = 'arc-prize-2024/arc-agi_test_challenges.json'\n",
    "training_challenge_file_path = 'arc-prize-2024/arc-agi_training_challenges.json'\n",
    "training_solutions_file_path = 'arc-prize-2024/arc-agi_training_solutions.json'\n",
    "evaluation_challenge_file_path = 'arc-prize-2024/arc-agi_evaluation_challenges.json'\n",
    "evaluation_solutions_file_path = 'arc-prize-2024/arc-agi_evaluation_solutions.json'\n",
    "\n",
    "# Load JSON files\n",
    "with open(test_challenge_file_path, 'r') as file:\n",
    "    test_challenges_data = json.load(file)\n",
    "\n",
    "with open(training_challenge_file_path, 'r') as file:\n",
    "    training_challenges_data = json.load(file)\n",
    "\n",
    "with open(training_solutions_file_path, 'r') as file:\n",
    "    training_solutions_data = json.load(file)\n",
    "\n",
    "with open(evaluation_challenge_file_path, 'r') as file:\n",
    "    evaluation_challenges_data = json.load(file)\n",
    "\n",
    "with open(evaluation_solutions_file_path, 'r') as file:\n",
    "    evaluation_solutions_data = json.load(file)\n",
    "\n",
    "# Convert JSON data to DataFrames\n",
    "test_challenges_df = json_to_dataframe(test_challenges_data)\n",
    "training_challenges_df = json_to_dataframe(training_challenges_data, training_solutions_data)\n",
    "evaluation_challenges_df = json_to_dataframe(evaluation_challenges_data, evaluation_solutions_data)\n",
    "\n",
    "# Display the DataFrames\n",
    "print(\"Test Challenges DataFrame:\")\n",
    "display(test_challenges_df.head())\n",
    "print(\"\\nTraining Challenges DataFrame:\")\n",
    "display(training_challenges_df.head())\n",
    "print(\"\\nEvaluation Challenges DataFrame:\")\n",
    "display(evaluation_challenges_df.head())\n",
    "\n",
    "# Save DataFrames to CSV files\n",
    "test_challenges_df.to_csv('test_challenges_data.csv', index=False)\n",
    "training_challenges_df.to_csv('training_challenges_data.csv', index=False)\n",
    "evaluation_challenges_df.to_csv('evaluation_challenges_data.csv', index=False)"
   ]
  },
  {
   "cell_type": "code",
   "execution_count": 16,
   "metadata": {},
   "outputs": [
    {
     "data": {
      "text/plain": [
       "[[7, 0, 7], [7, 0, 7], [7, 7, 0]]"
      ]
     },
     "execution_count": 16,
     "metadata": {},
     "output_type": "execute_result"
    }
   ],
   "source": [
    "a, b, c, d = filter_data_by_id('007bbfb7', training_challenges_df)\n",
    "e, f, g, h = filter_data_by_id('00576224', evaluation_challenges_df)\n",
    "i, j, k = filter_data_by_id('007bbfb7', test_challenges_df, solution=False)\n",
    "a"
   ]
  },
  {
   "cell_type": "code",
   "execution_count": 17,
   "metadata": {},
   "outputs": [
    {
     "name": "stdout",
     "output_type": "stream",
     "text": [
      "400\n",
      "400\n",
      "100\n"
     ]
    }
   ],
   "source": [
    "train_ids = training_challenges_df['id'].values\n",
    "eval_ids = evaluation_challenges_df['id'].values\n",
    "test_ids = test_challenges_df['id'].values\n",
    "\n",
    "print(len(training_challenges_df['id'].values))\n",
    "print(len(evaluation_challenges_df['id'].values))\n",
    "print(len(test_challenges_df['id'].values))"
   ]
  },
  {
   "cell_type": "code",
   "execution_count": 103,
   "metadata": {},
   "outputs": [
    {
     "name": "stdout",
     "output_type": "stream",
     "text": [
      "3 24 24 3 5 5\n"
     ]
    },
    {
     "data": {
      "image/png": "[encoded data removed]",
      "text/plain": [
       "<Figure size 1500x1000 with 6 Axes>"
      ]
     },
     "metadata": {},
     "output_type": "display_data"
    },
    {
     "data": {
      "image/png": "[encoded data removed]",
      "text/plain": [
       "<Figure size 2500x1000 with 10 Axes>"
      ]
     },
     "metadata": {},
     "output_type": "display_data"
    }
   ],
   "source": [
    "visualize_from_data(c, d)\n",
    "visualize_from_id('00d62c1b', training_challenges_df)"
   ]
  },
  {
   "cell_type": "code",
   "execution_count": 26,
   "metadata": {},
   "outputs": [
    {
     "data": {
      "text/html": [
       "<div>\n",
       "<style scoped>\n",
       "    .dataframe tbody tr th:only-of-type {\n",
       "        vertical-align: middle;\n",
       "    }\n",
       "\n",
       "    .dataframe tbody tr th {\n",
       "        vertical-align: top;\n",
       "    }\n",
       "\n",
       "    .dataframe thead th {\n",
       "        text-align: right;\n",
       "    }\n",
       "</style>\n",
       "<table border=\"1\" class=\"dataframe\">\n",
       "  <thead>\n",
       "    <tr style=\"text-align: right;\">\n",
       "      <th></th>\n",
       "      <th>id</th>\n",
       "      <th>input</th>\n",
       "      <th>output</th>\n",
       "    </tr>\n",
       "  </thead>\n",
       "  <tbody>\n",
       "    <tr>\n",
       "      <th>0</th>\n",
       "      <td>007bbfb7</td>\n",
       "      <td>[[[7, 0, 7], [7, 0, 7], [7, 7, 0]]]</td>\n",
       "      <td>[[[7, 0, 7, 0, 0, 0, 7, 0, 7], [7, 0, 7, 0, 0,...</td>\n",
       "    </tr>\n",
       "    <tr>\n",
       "      <th>1</th>\n",
       "      <td>00d62c1b</td>\n",
       "      <td>[[[0, 0, 0, 0, 0, 0, 0, 0, 0, 0, 0, 0, 0, 0, 0...</td>\n",
       "      <td>[[[0, 0, 0, 0, 0, 0, 0, 0, 0, 0, 0, 0, 0, 0, 0...</td>\n",
       "    </tr>\n",
       "    <tr>\n",
       "      <th>2</th>\n",
       "      <td>017c7c7b</td>\n",
       "      <td>[[[1, 1, 1], [0, 1, 0], [0, 1, 0], [1, 1, 1], ...</td>\n",
       "      <td>[[[2, 2, 2], [0, 2, 0], [0, 2, 0], [2, 2, 2], ...</td>\n",
       "    </tr>\n",
       "    <tr>\n",
       "      <th>3</th>\n",
       "      <td>025d127b</td>\n",
       "      <td>[[[0, 0, 0, 0, 0, 0, 0, 0, 0, 0], [0, 4, 4, 4,...</td>\n",
       "      <td>[[[0, 0, 0, 0, 0, 0, 0, 0, 0, 0], [0, 0, 4, 4,...</td>\n",
       "    </tr>\n",
       "    <tr>\n",
       "      <th>4</th>\n",
       "      <td>045e512c</td>\n",
       "      <td>[[[0, 0, 0, 0, 0, 0, 0, 0, 0, 0, 0, 0, 0, 0, 0...</td>\n",
       "      <td>[[[0, 0, 0, 0, 0, 0, 0, 0, 0, 0, 0, 0, 0, 0, 4...</td>\n",
       "    </tr>\n",
       "  </tbody>\n",
       "</table>\n",
       "</div>"
      ],
      "text/plain": [
       "         id                                              input  \\\n",
       "0  007bbfb7                [[[7, 0, 7], [7, 0, 7], [7, 7, 0]]]   \n",
       "1  00d62c1b  [[[0, 0, 0, 0, 0, 0, 0, 0, 0, 0, 0, 0, 0, 0, 0...   \n",
       "2  017c7c7b  [[[1, 1, 1], [0, 1, 0], [0, 1, 0], [1, 1, 1], ...   \n",
       "3  025d127b  [[[0, 0, 0, 0, 0, 0, 0, 0, 0, 0], [0, 4, 4, 4,...   \n",
       "4  045e512c  [[[0, 0, 0, 0, 0, 0, 0, 0, 0, 0, 0, 0, 0, 0, 0...   \n",
       "\n",
       "                                              output  \n",
       "0  [[[7, 0, 7, 0, 0, 0, 7, 0, 7], [7, 0, 7, 0, 0,...  \n",
       "1  [[[0, 0, 0, 0, 0, 0, 0, 0, 0, 0, 0, 0, 0, 0, 0...  \n",
       "2  [[[2, 2, 2], [0, 2, 0], [0, 2, 0], [2, 2, 2], ...  \n",
       "3  [[[0, 0, 0, 0, 0, 0, 0, 0, 0, 0], [0, 0, 4, 4,...  \n",
       "4  [[[0, 0, 0, 0, 0, 0, 0, 0, 0, 0, 0, 0, 0, 0, 4...  "
      ]
     },
     "metadata": {},
     "output_type": "display_data"
    },
    {
     "data": {
      "text/html": [
       "<div>\n",
       "<style scoped>\n",
       "    .dataframe tbody tr th:only-of-type {\n",
       "        vertical-align: middle;\n",
       "    }\n",
       "\n",
       "    .dataframe tbody tr th {\n",
       "        vertical-align: top;\n",
       "    }\n",
       "\n",
       "    .dataframe thead th {\n",
       "        text-align: right;\n",
       "    }\n",
       "</style>\n",
       "<table border=\"1\" class=\"dataframe\">\n",
       "  <thead>\n",
       "    <tr style=\"text-align: right;\">\n",
       "      <th></th>\n",
       "      <th>id</th>\n",
       "      <th>input</th>\n",
       "      <th>output</th>\n",
       "    </tr>\n",
       "  </thead>\n",
       "  <tbody>\n",
       "    <tr>\n",
       "      <th>0</th>\n",
       "      <td>007bbfb7</td>\n",
       "      <td>[[[0, 7, 7], [7, 7, 7], [0, 7, 7]], [[4, 0, 4]...</td>\n",
       "      <td>[[[0, 0, 0, 0, 7, 7, 0, 7, 7], [0, 0, 0, 7, 7,...</td>\n",
       "    </tr>\n",
       "    <tr>\n",
       "      <th>1</th>\n",
       "      <td>00d62c1b</td>\n",
       "      <td>[[[0, 0, 0, 0, 0, 0], [0, 0, 3, 0, 0, 0], [0, ...</td>\n",
       "      <td>[[[0, 0, 0, 0, 0, 0], [0, 0, 3, 0, 0, 0], [0, ...</td>\n",
       "    </tr>\n",
       "    <tr>\n",
       "      <th>2</th>\n",
       "      <td>017c7c7b</td>\n",
       "      <td>[[[0, 1, 0], [1, 1, 0], [0, 1, 0], [0, 1, 1], ...</td>\n",
       "      <td>[[[0, 2, 0], [2, 2, 0], [0, 2, 0], [0, 2, 2], ...</td>\n",
       "    </tr>\n",
       "    <tr>\n",
       "      <th>3</th>\n",
       "      <td>025d127b</td>\n",
       "      <td>[[[0, 0, 0, 0, 0, 0, 0, 0, 0], [0, 6, 6, 6, 0,...</td>\n",
       "      <td>[[[0, 0, 0, 0, 0, 0, 0, 0, 0], [0, 0, 6, 6, 6,...</td>\n",
       "    </tr>\n",
       "    <tr>\n",
       "      <th>4</th>\n",
       "      <td>045e512c</td>\n",
       "      <td>[[[0, 0, 0, 0, 0, 0, 0, 0, 0, 0, 0, 0, 0, 0, 0...</td>\n",
       "      <td>[[[0, 0, 0, 0, 0, 0, 0, 0, 0, 0, 0, 0, 0, 0, 0...</td>\n",
       "    </tr>\n",
       "  </tbody>\n",
       "</table>\n",
       "</div>"
      ],
      "text/plain": [
       "         id                                              input  \\\n",
       "0  007bbfb7  [[[0, 7, 7], [7, 7, 7], [0, 7, 7]], [[4, 0, 4]...   \n",
       "1  00d62c1b  [[[0, 0, 0, 0, 0, 0], [0, 0, 3, 0, 0, 0], [0, ...   \n",
       "2  017c7c7b  [[[0, 1, 0], [1, 1, 0], [0, 1, 0], [0, 1, 1], ...   \n",
       "3  025d127b  [[[0, 0, 0, 0, 0, 0, 0, 0, 0], [0, 6, 6, 6, 0,...   \n",
       "4  045e512c  [[[0, 0, 0, 0, 0, 0, 0, 0, 0, 0, 0, 0, 0, 0, 0...   \n",
       "\n",
       "                                              output  \n",
       "0  [[[0, 0, 0, 0, 7, 7, 0, 7, 7], [0, 0, 0, 7, 7,...  \n",
       "1  [[[0, 0, 0, 0, 0, 0], [0, 0, 3, 0, 0, 0], [0, ...  \n",
       "2  [[[0, 2, 0], [2, 2, 0], [0, 2, 0], [0, 2, 2], ...  \n",
       "3  [[[0, 0, 0, 0, 0, 0, 0, 0, 0], [0, 0, 6, 6, 6,...  \n",
       "4  [[[0, 0, 0, 0, 0, 0, 0, 0, 0, 0, 0, 0, 0, 0, 0...  "
      ]
     },
     "metadata": {},
     "output_type": "display_data"
    }
   ],
   "source": [
    "train_set = []\n",
    "train_predict_set = []\n",
    "eval_set = []\n",
    "eval_predict_set = []\n",
    "test_set = []\n",
    "\n",
    "for i in range(len(train_ids)):\n",
    "    a, b, c, d = filter_data_by_id(train_ids[i], training_challenges_df)\n",
    "    train_set.append({'id': train_ids[i], 'input': c, 'output': d})\n",
    "    train_predict_set.append({'id': train_ids[i], 'input': [a], 'output': [b]})\n",
    "    e, f, g, h = filter_data_by_id(eval_ids[i], evaluation_challenges_df)\n",
    "    eval_set.append({'id': eval_ids[i], 'input': g, 'output': h})\n",
    "    eval_predict_set.append({'id': train_ids[i], 'input': [e], 'output': [f]})\n",
    "\n",
    "for i in range(len(test_ids)):\n",
    "    i, j, k = filter_data_by_id(test_ids[i], test_challenges_df, solution=False)\n",
    "    test_set.append({'id': test_ids[i], 'input': k})\n",
    "\n",
    "train_set_df = pd.DataFrame(train_set)\n",
    "eval_set_df = pd.DataFrame(eval_set)\n",
    "test_set_df = pd.DataFrame(test_set)\n",
    "train_predict_set_df = pd.DataFrame(train_predict_set)\n",
    "eval_predict_set_df = pd.DataFrame(eval_predict_set)\n",
    "\n",
    "display(train_predict_set_df.head())\n",
    "display(train_set_df.head())\n",
    "    "
   ]
  },
  {
   "cell_type": "code",
   "execution_count": 27,
   "metadata": {},
   "outputs": [
    {
     "data": {
      "text/html": [
       "<div>\n",
       "<style scoped>\n",
       "    .dataframe tbody tr th:only-of-type {\n",
       "        vertical-align: middle;\n",
       "    }\n",
       "\n",
       "    .dataframe tbody tr th {\n",
       "        vertical-align: top;\n",
       "    }\n",
       "\n",
       "    .dataframe thead th {\n",
       "        text-align: right;\n",
       "    }\n",
       "</style>\n",
       "<table border=\"1\" class=\"dataframe\">\n",
       "  <thead>\n",
       "    <tr style=\"text-align: right;\">\n",
       "      <th></th>\n",
       "      <th>id</th>\n",
       "      <th>input</th>\n",
       "      <th>output</th>\n",
       "      <th>standardized_input</th>\n",
       "      <th>standardized_output</th>\n",
       "    </tr>\n",
       "  </thead>\n",
       "  <tbody>\n",
       "    <tr>\n",
       "      <th>0</th>\n",
       "      <td>007bbfb7</td>\n",
       "      <td>[[[0, 7, 7], [7, 7, 7], [0, 7, 7]], [[4, 0, 4]...</td>\n",
       "      <td>[[[0, 0, 0, 0, 7, 7, 0, 7, 7], [0, 0, 0, 7, 7,...</td>\n",
       "      <td>[[[0, 7, 7, -1, -1, -1, -1, -1, -1, -1, -1, -1...</td>\n",
       "      <td>[[[0, 0, 0, 0, 7, 7, 0, 7, 7, -1, -1, -1, -1, ...</td>\n",
       "    </tr>\n",
       "    <tr>\n",
       "      <th>1</th>\n",
       "      <td>00d62c1b</td>\n",
       "      <td>[[[0, 0, 0, 0, 0, 0], [0, 0, 3, 0, 0, 0], [0, ...</td>\n",
       "      <td>[[[0, 0, 0, 0, 0, 0], [0, 0, 3, 0, 0, 0], [0, ...</td>\n",
       "      <td>[[[0, 0, 0, 0, 0, 0, -1, -1, -1, -1, -1, -1, -...</td>\n",
       "      <td>[[[0, 0, 0, 0, 0, 0, -1, -1, -1, -1, -1, -1, -...</td>\n",
       "    </tr>\n",
       "    <tr>\n",
       "      <th>2</th>\n",
       "      <td>017c7c7b</td>\n",
       "      <td>[[[0, 1, 0], [1, 1, 0], [0, 1, 0], [0, 1, 1], ...</td>\n",
       "      <td>[[[0, 2, 0], [2, 2, 0], [0, 2, 0], [0, 2, 2], ...</td>\n",
       "      <td>[[[0, 1, 0, -1, -1, -1, -1, -1, -1, -1, -1, -1...</td>\n",
       "      <td>[[[0, 2, 0, -1, -1, -1, -1, -1, -1, -1, -1, -1...</td>\n",
       "    </tr>\n",
       "    <tr>\n",
       "      <th>3</th>\n",
       "      <td>025d127b</td>\n",
       "      <td>[[[0, 0, 0, 0, 0, 0, 0, 0, 0], [0, 6, 6, 6, 0,...</td>\n",
       "      <td>[[[0, 0, 0, 0, 0, 0, 0, 0, 0], [0, 0, 6, 6, 6,...</td>\n",
       "      <td>[[[0, 0, 0, 0, 0, 0, 0, 0, 0, -1, -1, -1, -1, ...</td>\n",
       "      <td>[[[0, 0, 0, 0, 0, 0, 0, 0, 0, -1, -1, -1, -1, ...</td>\n",
       "    </tr>\n",
       "    <tr>\n",
       "      <th>4</th>\n",
       "      <td>045e512c</td>\n",
       "      <td>[[[0, 0, 0, 0, 0, 0, 0, 0, 0, 0, 0, 0, 0, 0, 0...</td>\n",
       "      <td>[[[0, 0, 0, 0, 0, 0, 0, 0, 0, 0, 0, 0, 0, 0, 0...</td>\n",
       "      <td>[[[0, 0, 0, 0, 0, 0, 0, 0, 0, 0, 0, 0, 0, 0, 0...</td>\n",
       "      <td>[[[0, 0, 0, 0, 0, 0, 0, 0, 0, 0, 0, 0, 0, 0, 0...</td>\n",
       "    </tr>\n",
       "  </tbody>\n",
       "</table>\n",
       "</div>"
      ],
      "text/plain": [
       "         id                                              input  \\\n",
       "0  007bbfb7  [[[0, 7, 7], [7, 7, 7], [0, 7, 7]], [[4, 0, 4]...   \n",
       "1  00d62c1b  [[[0, 0, 0, 0, 0, 0], [0, 0, 3, 0, 0, 0], [0, ...   \n",
       "2  017c7c7b  [[[0, 1, 0], [1, 1, 0], [0, 1, 0], [0, 1, 1], ...   \n",
       "3  025d127b  [[[0, 0, 0, 0, 0, 0, 0, 0, 0], [0, 6, 6, 6, 0,...   \n",
       "4  045e512c  [[[0, 0, 0, 0, 0, 0, 0, 0, 0, 0, 0, 0, 0, 0, 0...   \n",
       "\n",
       "                                              output  \\\n",
       "0  [[[0, 0, 0, 0, 7, 7, 0, 7, 7], [0, 0, 0, 7, 7,...   \n",
       "1  [[[0, 0, 0, 0, 0, 0], [0, 0, 3, 0, 0, 0], [0, ...   \n",
       "2  [[[0, 2, 0], [2, 2, 0], [0, 2, 0], [0, 2, 2], ...   \n",
       "3  [[[0, 0, 0, 0, 0, 0, 0, 0, 0], [0, 0, 6, 6, 6,...   \n",
       "4  [[[0, 0, 0, 0, 0, 0, 0, 0, 0, 0, 0, 0, 0, 0, 0...   \n",
       "\n",
       "                                  standardized_input  \\\n",
       "0  [[[0, 7, 7, -1, -1, -1, -1, -1, -1, -1, -1, -1...   \n",
       "1  [[[0, 0, 0, 0, 0, 0, -1, -1, -1, -1, -1, -1, -...   \n",
       "2  [[[0, 1, 0, -1, -1, -1, -1, -1, -1, -1, -1, -1...   \n",
       "3  [[[0, 0, 0, 0, 0, 0, 0, 0, 0, -1, -1, -1, -1, ...   \n",
       "4  [[[0, 0, 0, 0, 0, 0, 0, 0, 0, 0, 0, 0, 0, 0, 0...   \n",
       "\n",
       "                                 standardized_output  \n",
       "0  [[[0, 0, 0, 0, 7, 7, 0, 7, 7, -1, -1, -1, -1, ...  \n",
       "1  [[[0, 0, 0, 0, 0, 0, -1, -1, -1, -1, -1, -1, -...  \n",
       "2  [[[0, 2, 0, -1, -1, -1, -1, -1, -1, -1, -1, -1...  \n",
       "3  [[[0, 0, 0, 0, 0, 0, 0, 0, 0, -1, -1, -1, -1, ...  \n",
       "4  [[[0, 0, 0, 0, 0, 0, 0, 0, 0, 0, 0, 0, 0, 0, 0...  "
      ]
     },
     "metadata": {},
     "output_type": "display_data"
    }
   ],
   "source": [
    "\n",
    "\n",
    "\n",
    "train_set_df['standardized_input'] = train_set_df['input'].apply(standardize_data)\n",
    "train_set_df['standardized_output'] = train_set_df['output'].apply(standardize_data)\n",
    "train_predict_set_df['standardized_input'] = train_predict_set_df['input'].apply(standardize_data)\n",
    "train_predict_set_df['standardized_output'] = train_predict_set_df['output'].apply(standardize_data)\n",
    "eval_set_df['standardized_input'] = eval_set_df['input'].apply(standardize_data)\n",
    "eval_set_df['standardized_output'] = eval_set_df['output'].apply(standardize_data)\n",
    "eval_predict_set_df['standardized_input'] = eval_predict_set_df['input'].apply(standardize_data)\n",
    "eval_predict_set_df['standardized_output'] = eval_predict_set_df['output'].apply(standardize_data)\n",
    "test_set_df['standardized_input'] = test_set_df['input'].apply(standardize_data)\n",
    "\n",
    "display(train_set_df.head())"
   ]
  },
  {
   "cell_type": "code",
   "execution_count": 34,
   "metadata": {},
   "outputs": [],
   "source": [
    "# most ml models have a specific input shape that they expect\n",
    "# making everythign 30x30\n",
    "# convert the whole thing to an image\n",
    "\n",
    "\n",
    "\n",
    "\n",
    "# Model ideas\n",
    "# 1. CNN\n",
    "# 2. S4 -> sequence model, 4 ways \n",
    "# Transformer\n",
    "# Ensembling \n",
    "\n",
    "# CNN model\n",
    "# 1. Input shape 30x30\n",
    "# 2. 2D Convolutional layer\n",
    "# 3. 2D Max pooling layer\n",
    "# 4. 2D Convolutional layer\n",
    "# 5. 2D Max pooling layer\n",
    "# 6. Flatten layer\n",
    "# 7. Dense layer\n",
    "# 8. Output layer\n",
    "\n",
    "\n",
    "model = CNNModel()\n",
    "\n",
    "# Loss function\n",
    "loss_function = torch.nn.CrossEntropyLoss()\n",
    "\n",
    "# Optimizer\n",
    "optimizer = torch.optim.Adam(model.parameters(), lr=0.001)\n",
    "\n",
    "# Training\n",
    "def train_model(model, train_data, loss_function, optimizer, epochs=10):\n",
    "    for epoch in range(epochs):\n",
    "        for i in range(len(train_data)):\n",
    "            for j in range(len(train_data['standardized_input'].iloc[i])):\n",
    "                input_data = torch.tensor(train_data['standardized_input'].iloc[i][j]).unsqueeze(0).float()\n",
    "                output_data = torch.tensor(train_data['standardized_output'].iloc[i]).float()\n",
    "                optimizer.zero_grad()\n",
    "                output = model(input_data).squeeze()\n",
    "                loss = loss_function(output[:len(output), :len(output[0])], output_data[j])\n",
    "                loss.backward()\n",
    "                optimizer.step()\n",
    "\n",
    "            if i % 100 == 0:\n",
    "                print(f\"Epoch: {epoch + 1}, Loss: {loss.item()}\")\n",
    "\n",
    "\n",
    "\n"
   ]
  },
  {
   "cell_type": "code",
   "execution_count": 22,
   "metadata": {},
   "outputs": [
    {
     "name": "stdout",
     "output_type": "stream",
     "text": [
      "Epoch: 1, Loss: -87.35584259033203\n",
      "Epoch: 1, Loss: -19595.068359375\n",
      "Epoch: 1, Loss: -299187.34375\n",
      "Epoch: 1, Loss: -1781634.625\n",
      "Epoch: 2, Loss: -4147283.75\n",
      "Epoch: 2, Loss: -6539427.0\n",
      "Epoch: 2, Loss: -12897770.0\n",
      "Epoch: 2, Loss: -23520008.0\n",
      "Epoch: 3, Loss: -29230098.0\n",
      "Epoch: 3, Loss: -32656204.0\n",
      "Epoch: 3, Loss: -50418452.0\n",
      "Epoch: 3, Loss: -78295912.0\n",
      "Epoch: 4, Loss: -84787200.0\n",
      "Epoch: 4, Loss: -84935032.0\n",
      "Epoch: 4, Loss: -118882840.0\n",
      "Epoch: 4, Loss: -173315872.0\n",
      "Epoch: 5, Loss: -176791760.0\n",
      "Epoch: 5, Loss: -167970528.0\n",
      "Epoch: 5, Loss: -223209024.0\n",
      "Epoch: 5, Loss: -314826816.0\n",
      "Epoch: 6, Loss: -310750240.0\n",
      "Epoch: 6, Loss: -286142400.0\n",
      "Epoch: 6, Loss: -368182848.0\n",
      "Epoch: 6, Loss: -509365024.0\n",
      "Epoch: 7, Loss: -492446528.0\n",
      "Epoch: 7, Loss: -444245600.0\n",
      "Epoch: 7, Loss: -558992256.0\n",
      "Epoch: 7, Loss: -762991616.0\n",
      "Epoch: 8, Loss: -726978368.0\n",
      "Epoch: 8, Loss: -646184320.0\n",
      "Epoch: 8, Loss: -799783040.0\n",
      "Epoch: 8, Loss: -1081359360.0\n",
      "Epoch: 9, Loss: -1019579264.0\n",
      "Epoch: 9, Loss: -896330496.0\n",
      "Epoch: 9, Loss: -1095836800.0\n",
      "Epoch: 9, Loss: -1470872448.0\n",
      "Epoch: 10, Loss: -1375724928.0\n",
      "Epoch: 10, Loss: -1199205888.0\n",
      "Epoch: 10, Loss: -1451730944.0\n",
      "Epoch: 10, Loss: -1937751680.0\n"
     ]
    }
   ],
   "source": [
    "train_model(model, train_set_df, loss_function, optimizer, epochs=10)\n"
   ]
  },
  {
   "cell_type": "code",
   "execution_count": 115,
   "metadata": {},
   "outputs": [
    {
     "name": "stdout",
     "output_type": "stream",
     "text": [
      "30\n"
     ]
    }
   ],
   "source": [
    "print(len(train_predict_set_df['standardized_input'][0][0][0]))"
   ]
  },
  {
   "cell_type": "code",
   "execution_count": 28,
   "metadata": {},
   "outputs": [
    {
     "name": "stdout",
     "output_type": "stream",
     "text": [
      "Accuracy: 74.3875\n"
     ]
    }
   ],
   "source": [
    "model.eval()\n",
    "evaluate_model(model, train_predict_set_df)"
   ]
  },
  {
   "cell_type": "code",
   "execution_count": 104,
   "metadata": {},
   "outputs": [
    {
     "data": {
      "image/png": "[encoded data removed]",
      "text/plain": [
       "<Figure size 500x500 with 1 Axes>"
      ]
     },
     "metadata": {},
     "output_type": "display_data"
    },
    {
     "data": {
      "image/png": "[encoded data removed]",
      "text/plain": [
       "<Figure size 500x1000 with 2 Axes>"
      ]
     },
     "metadata": {},
     "output_type": "display_data"
    }
   ],
   "source": [
    "predictions = predict(model, train_predict_set_df)\n",
    "visualize_from_data(predictions[0])\n",
    "visualize_from_data([i for i in train_predict_set_df['standardized_input']][0], [i for i in train_predict_set_df['standardized_output']][0])"
   ]
  },
  {
   "cell_type": "code",
   "execution_count": null,
   "metadata": {},
   "outputs": [],
   "source": []
  }
 ],
 "metadata": {
  "kernelspec": {
   "display_name": "venv",
   "language": "python",
   "name": "python3"
  },
  "language_info": {
   "codemirror_mode": {
    "name": "ipython",
    "version": 3
   },
   "file_extension": ".py",
   "mimetype": "text/x-python",
   "name": "python",
   "nbconvert_exporter": "python",
   "pygments_lexer": "ipython3",
   "version": "3.9.12"
  }
 },
 "nbformat": 4,
 "nbformat_minor": 2
}
